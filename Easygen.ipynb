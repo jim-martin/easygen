{
  "nbformat": 4,
  "nbformat_minor": 0,
  "metadata": {
    "colab": {
      "name": "Easygen.ipynb",
      "version": "0.3.2",
      "provenance": [],
      "collapsed_sections": []
    },
    "kernelspec": {
      "name": "python3",
      "display_name": "Python 3"
    },
    "accelerator": "GPU"
  },
  "cells": [
    {
      "cell_type": "markdown",
      "metadata": {
        "id": "XzgHTDSyzMRP",
        "colab_type": "text"
      },
      "source": [
        "# EasyGen\n",
        "\n",
        "EasyGen is a visual user interface to help set up simple neural network generation tasks.\n",
        "\n",
        "There are a number of neural network frameworks (Tensorflow, TFLearn, Keras, PyTorch, etc.) that implement standard algorithms for generating text (e.g., recurrent neural networks, sequence2sequence) and images (e.g., generative adversarial networks). They require some familairity with coding. Beyond that, just running a simple experiment may require a complex set of steps to clean and prepare the data.\n",
        "\n",
        "EasyGen allows one to quickly set up the data cleaning and neural network training pipeline using a graphical user interface and a number of self-contained \"modules\" that implement stardard data preparation routines. EasyGen differs from other neural network user interfaces in that it doesn't focus on the graphical instantiation of the neural network itself. Instead, it provides an easy to use way to instantiate some of the most common neural network algorithms used for generation. EasyGen focuses on the data preparation.\n",
        "\n",
        "For documentation see the [EasyGen Github repo](https://https://github.com/markriedl/easygen)\n",
        "\n",
        "To get started:\n",
        "\n",
        "1. Clone the [EasyGen notebook](https://drive.google.com/open?id=1XNiOuNtMnItl5CPGvRjEvj9C78nDuvXj) by following the link and selecting File -> Save a copy in Drive.\n",
        "\n",
        "2. Turn on GPU support under Edit -> Notebook setting.\n",
        "\n",
        "3. Run the cells in Sections 1. Some are optional if you know you aren't going to be using particular features.\n",
        "\n",
        "4. Run the cell in Section 2. If you know there are any models or datasets that you won't be using you can skip them.\n",
        "\n",
        "5. Run the cell in Section 3. This creates a blank area below the cell in which you can use the buttons to create your visual program. An example program is loaded automatically. You can clear it with the \"clear\" button below it. Afterwards you can create your own programs. Selecting \"Make New Module\" will cause the new module appears graphically above and can be dragged around. The inputs and outputs of different modules can be connected together by clicking on an output (red) and dragging to an input (green). Gray boxes are parameters that can be edited. Clicking on a gray box causes a text input field to appear at the bottom of the editing area, just above the \"Make New Module\" controls.\n",
        "\n",
        "6. Save your program by entering a program name and pressing the \"save\" button.\n",
        "\n",
        "7. Run your program by editing the program name in the cell in Section 4 and then running the cell."
      ]
    },
    {
      "cell_type": "markdown",
      "metadata": {
        "id": "1PJwtOgUXpAG",
        "colab_type": "text"
      },
      "source": [
        "# 1. Setup\n",
        "\n",
        "Download EasyGen"
      ]
    },
    {
      "cell_type": "code",
      "metadata": {
        "id": "cXGp8MWKPumP",
        "colab_type": "code",
        "colab": {}
      },
      "source": [
        "!git clone https://github.com/markriedl/easygen.git\n",
        "!cp easygen/*.js /usr/local/share/jupyter/nbextensions/google.colab/\n",
        "!cp easygen/images/*.png /usr/local/share/jupyter/nbextensions/google.colab/"
      ],
      "execution_count": 0,
      "outputs": []
    },
    {
      "cell_type": "markdown",
      "metadata": {
        "id": "9XikLU2ez0Yz",
        "colab_type": "text"
      },
      "source": [
        "Install requirements"
      ]
    },
    {
      "cell_type": "code",
      "metadata": {
        "id": "jlgTqMtFX3NU",
        "colab_type": "code",
        "colab": {}
      },
      "source": [
        "!apt-get update\n",
        "!apt-get install chromium-chromedriver\n",
        "!pip install -r easygen/requirements.txt"
      ],
      "execution_count": 0,
      "outputs": []
    },
    {
      "cell_type": "markdown",
      "metadata": {
        "id": "gqeftQQ6z3we",
        "colab_type": "text"
      },
      "source": [
        "Download StyleGAN"
      ]
    },
    {
      "cell_type": "code",
      "metadata": {
        "id": "l9jSPMsgj0hI",
        "colab_type": "code",
        "colab": {}
      },
      "source": [
        "!git clone https://github.com/NVlabs/stylegan.git\n",
        "!cp easygen/stylegan_runner.py stylegan"
      ],
      "execution_count": 0,
      "outputs": []
    },
    {
      "cell_type": "markdown",
      "metadata": {
        "id": "BJNElaVez7JW",
        "colab_type": "text"
      },
      "source": [
        "Download GPT-2"
      ]
    },
    {
      "cell_type": "code",
      "metadata": {
        "id": "3yHkEkVNj2Ih",
        "colab_type": "code",
        "colab": {}
      },
      "source": [
        "!git clone https://github.com/nshepperd/gpt-2"
      ],
      "execution_count": 0,
      "outputs": []
    },
    {
      "cell_type": "markdown",
      "metadata": {
        "id": "4LW3Il9nzg5M",
        "colab_type": "text"
      },
      "source": [
        "Import Easygen and create backend hooks for saving and loading programs"
      ]
    },
    {
      "cell_type": "code",
      "metadata": {
        "id": "bV_TJbUjzfza",
        "colab_type": "code",
        "colab": {}
      },
      "source": [
        "import sys\n",
        "sys.path.insert(0, 'easygen')\n",
        "import easygen\n",
        "\n",
        "import IPython\n",
        "from google.colab import output\n",
        "\n",
        "def python_save_hook(str, filename):\n",
        "  # Use display.JSON to transfer a structured result.\n",
        "  with open(filename, 'w') as f:\n",
        "    f.write(str)\n",
        "  return IPython.display.JSON({'result': 'true'})\n",
        "\n",
        "def python_load_hook(filename):\n",
        "  # Use display.JSON to transfer a structured result.\n",
        "  str = ''\n",
        "  with open(filename, 'r') as f:\n",
        "    str = f.read()\n",
        "  return IPython.display.JSON({'result': str})\n",
        "\n",
        "\n",
        "output.register_callback('notebook.python_save_hook', python_save_hook)\n",
        "output.register_callback('notebook.python_load_hook', python_load_hook)"
      ],
      "execution_count": 0,
      "outputs": []
    },
    {
      "cell_type": "markdown",
      "metadata": {
        "id": "nvMUzJGmXy44",
        "colab_type": "text"
      },
      "source": [
        "# 2. Download pre-trained neural network models\n",
        "\n",
        "## 2.1 Download GPT-2 and StyleGan models\n",
        "\n",
        "Download the GPT-2 small 117M model. Will save to ```models/117M``` directory.\n"
      ]
    },
    {
      "cell_type": "code",
      "metadata": {
        "id": "vqaLwY9GXpuO",
        "colab_type": "code",
        "colab": {}
      },
      "source": [
        "!python gpt-2/download_model.py 117M"
      ],
      "execution_count": 0,
      "outputs": []
    },
    {
      "cell_type": "markdown",
      "metadata": {
        "id": "wwUI0RL79R3m",
        "colab_type": "text"
      },
      "source": [
        "Download the GPT-2 medium 345M model. Will save to ```models/345M``` directory."
      ]
    },
    {
      "cell_type": "code",
      "metadata": {
        "id": "QZe-0_gY9FWx",
        "colab_type": "code",
        "colab": {}
      },
      "source": [
        "!python gpt-2/download_model.py 345M"
      ],
      "execution_count": 0,
      "outputs": []
    },
    {
      "cell_type": "markdown",
      "metadata": {
        "id": "YHmVcSNbkVvo",
        "colab_type": "text"
      },
      "source": [
        "Download the StyleGAN cats model (256x256). Will save as \"cats256x256.pkl\" in the home directory."
      ]
    },
    {
      "cell_type": "code",
      "metadata": {
        "id": "njbbbOBRkVXF",
        "colab_type": "code",
        "colab": {}
      },
      "source": [
        "!wget -O cats256x256.pkl https://www.dropbox.com/s/1w97383h0nrj4ea/karras2019stylegan-cats-256x256.pkl?dl=0"
      ],
      "execution_count": 0,
      "outputs": []
    },
    {
      "cell_type": "markdown",
      "metadata": {
        "id": "zEqyG5DMX7CI",
        "colab_type": "text"
      },
      "source": [
        "## 2.2 Download Wikipedia\n",
        "\n",
        "You only need to do this if you are using the ```ReadWikipedia``` functionality. This takes a long time. You may want to skip it if you know you wont be scraping data from Wikipedia."
      ]
    },
    {
      "cell_type": "code",
      "metadata": {
        "id": "A7LWxcOzWjaV",
        "colab_type": "code",
        "colab": {}
      },
      "source": [
        "!wget -O wiki.zip https://www.dropbox.com/s/39w6mj1akwy2a0r/wiki.zip?dl=0\n",
        "!unzip wiki.zip"
      ],
      "execution_count": 0,
      "outputs": []
    },
    {
      "cell_type": "markdown",
      "metadata": {
        "id": "oX_AG49uYV23",
        "colab_type": "text"
      },
      "source": [
        "# 3. Run the GUI\n",
        "\n",
        "Run the cell below. This will load a default example program that generate new, fictional paint names. Use the \"clear\" button to clear it and make your own.\n",
        "\n",
        "When done, name the program and press the \"save\" button. You should see your file appear in the file listing in the left panel."
      ]
    },
    {
      "cell_type": "code",
      "metadata": {
        "id": "NFpPTx0oN8N9",
        "colab_type": "code",
        "colab": {}
      },
      "source": [
        "%%html\n",
        "<!DOCTYPE html>\n",
        "<html>\n",
        "<head>\n",
        "<meta name=\"viewport\" content=\"width=device-width, initial-scale=1.0\"/>\n",
        "\n",
        "<style>\n",
        "// MAKE CANVAS \n",
        "canvas {\n",
        "    border:1px solid #d3d3d3;\n",
        "    background-color: #f1f1f1;\n",
        "}\n",
        "</style>\n",
        "</head>\n",
        "<body>\n",
        "<script src=\"nbextensions/google.colab/module_dicts.js\"></script>\n",
        "<script src=\"nbextensions/google.colab/gui.js\"></script>\n",
        "<script>load_program(\"easygen/examples/make_new_colors\")</script>\n",
        "<div id=\"inp\">\n",
        "  <h1 id=\"inp_module\">text</h1>\n",
        "  <strong id=\"inp_param\">text</strong>\n",
        "  <input id=\"inp_val\" />\n",
        "  <button onmouseup=\"do_input_button_up()\">ok</button>\n",
        "</div>\n",
        "<div id=\"make\">\n",
        "  <h1>Make New Module</h1>\n",
        "  <select id=\"module_select\"></select>\n",
        "  <button onmouseup=\"do_make_module_button_up()\">Add Module</button>\n",
        "</div>\n",
        "<div>\n",
        "  <h1>Save Program</h1>\n",
        "  <input id=\"inp_save\" />\n",
        "  <button onmouseup=\"save_program()\">Save</button>\n",
        "</div>\n",
        "<div>\n",
        "  <h1>Load Program</h1>\n",
        "  <input id=\"inp_load\" />\n",
        "  <button onmouseup=\"load_program()\">Load</button>\n",
        "</div>\n",
        "<div>\n",
        "  <h1>Clear Program</h1>\n",
        "  <button onmouseup=\"clear_program()\">Clear</button>\n",
        "</div>\n",
        "</body>\n",
        "</html>"
      ],
      "execution_count": 0,
      "outputs": []
    },
    {
      "cell_type": "markdown",
      "metadata": {
        "id": "xUmugXljEFw8",
        "colab_type": "text"
      },
      "source": [
        "# 4. Run Your Program"
      ]
    },
    {
      "cell_type": "markdown",
      "metadata": {
        "id": "GA0sfrdnaDAV",
        "colab_type": "text"
      },
      "source": [
        "The default is a program that will generate new, fictional paint names. If you use the default program, the final result will be saved in \"my_output_file\". \n",
        "\n",
        "Once you've made your own program, replace the *program_file_name* with your own file name."
      ]
    },
    {
      "cell_type": "code",
      "metadata": {
        "id": "4klnhCIosXQU",
        "colab_type": "code",
        "colab": {}
      },
      "source": [
        "program_file_name = 'easygen/examples/make_new_colors'\n",
        "easygen.main(program_file_name)"
      ],
      "execution_count": 0,
      "outputs": []
    },
    {
      "cell_type": "markdown",
      "metadata": {
        "id": "3umTq8CjEWnl",
        "colab_type": "text"
      },
      "source": [
        "# 5. View Your Output Files"
      ]
    },
    {
      "cell_type": "markdown",
      "metadata": {
        "id": "L0fH_pqlaJTP",
        "colab_type": "text"
      },
      "source": [
        "If your program writes text to file, you can print that file"
      ]
    },
    {
      "cell_type": "code",
      "metadata": {
        "id": "9gQSA8YiShTE",
        "colab_type": "code",
        "colab": {}
      },
      "source": [
        "!more my_output_file"
      ],
      "execution_count": 0,
      "outputs": []
    },
    {
      "cell_type": "markdown",
      "metadata": {
        "id": "rPVItzH8j9jn",
        "colab_type": "text"
      },
      "source": [
        "Image output can be viewed by opening the file panel on the left and double-clicking on image files.\n",
        "\n",
        "Or you can use the panel to the left to download any files written to disk."
      ]
    }
  ]
}